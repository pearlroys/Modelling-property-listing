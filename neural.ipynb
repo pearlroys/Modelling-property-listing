{
 "cells": [
  {
   "cell_type": "code",
   "execution_count": 49,
   "metadata": {},
   "outputs": [],
   "source": [
    "import matplotlib.pyplot as plt\n",
    "import numpy as np\n",
    "import pandas as pd\n",
    "import torch\n",
    "import torch.nn as nn\n",
    "from torch.utils.data import Dataset, DataLoader, random_split\n",
    "from sklearn.model_selection import train_test_split\n",
    "from sklearn.metrics import mean_squared_error, r2_score\n",
    "import torch.nn.functional as F\n",
    "from torch.utils.tensorboard import SummaryWriter\n",
    "import yaml\n",
    "\n"
   ]
  },
  {
   "cell_type": "code",
   "execution_count": 60,
   "metadata": {},
   "outputs": [],
   "source": [
    "df = pd.read_csv('num_tabular_data.csv')"
   ]
  },
  {
   "cell_type": "code",
   "execution_count": 82,
   "metadata": {},
   "outputs": [],
   "source": [
    "\n",
    "def load_airbnb(csv_file_path):\n",
    "    df = pd.read_csv(csv_file_path)\n",
    "    features = df.drop(columns= ['Price_Night'])\n",
    "    features = features.apply(pd.to_numeric, errors='coerce')\n",
    "    features = features.values.astype(np.float32)\n",
    "    labels = df[\"Price_Night\"].values.astype(np.float32)\n",
    "    loaded_data = features,labels\n",
    "    return loaded_data\n",
    "\n",
    "ds = load_airbnb('num_tabular_data.csv')\n"
   ]
  },
  {
   "cell_type": "code",
   "execution_count": 83,
   "metadata": {},
   "outputs": [],
   "source": [
    "class AirbnbNightlyPriceDataset(Dataset):\n",
    "    def __init__(self):\n",
    "        # Convert the features and labels dataframes into torch tensors\n",
    "        super().__init__()\n",
    "        self.X, self.y = load_airbnb('num_tabular_data.csv')\n",
    "        assert len(self.X) == len(self.y) # Data and labels have to be of equal length\n",
    "\n",
    "    def __getitem__(self, index):\n",
    "        return (torch.tensor(self.X[index]), torch.tensor(self.y[index]))\n",
    "\n",
    "    def __len__(self):\n",
    "        return len(self.X)\n",
    "\n",
    "\n",
    "# create dataset\n",
    "dataset = AirbnbNightlyPriceDataset()"
   ]
  },
  {
   "cell_type": "code",
   "execution_count": 108,
   "metadata": {},
   "outputs": [
    {
     "name": "stdout",
     "output_type": "stream",
     "text": [
      "    Training: 581\n",
      "    Validation: 124\n",
      "    Testing: 125\n"
     ]
    }
   ],
   "source": [
    "def split_data(dataset):\n",
    "    # Splits the input dataset into training, validation, and testing sets. # Splits data into 70% training and 30% test\n",
    "\n",
    "    train_dataset, test_data = random_split(dataset, [int(len(dataset) * 0.7), len(dataset)-int(len(dataset)*0.7)])\n",
    "\n",
    "    # Splits test data in half, percentage of total dataset is 15% test and 15% validation\n",
    "    validation_dataset, test_dataset = random_split(test_data, [int(len(test_data) * 0.5), len(test_data)-int(len(test_data)*0.5)])\n",
    "\n",
    "    print(f\"    Training: {len(train_dataset)}\")\n",
    "    print(f\"    Validation: {len(validation_dataset)}\")\n",
    "    print(f\"    Testing: {len(test_dataset)}\")\n",
    "\n",
    "\n",
    "    return train_dataset, validation_dataset, test_dataset\n",
    "\n",
    "\n",
    "# Load whole dataset with DataLoader\n",
    "# shuffle: shuffle data, good for training\n",
    "# num_workers: faster loading with multiple subprocesses\n",
    "# !!! IF YOU GET AN ERROR DURING LOADING, SET num_workers TO 0 !!!\n",
    "\n",
    "train_dataset, validation_dataset, test_dataset = split_data(dataset)\n",
    "\n",
    "# train loader\n",
    "train_loader = DataLoader(dataset = train_dataset, batch_size=4, shuffle=True, num_workers=0)\n",
    "\n",
    "\n",
    "# validation loader\n",
    "validation_loader = DataLoader(dataset = validation_dataset, batch_size =4, shuffle=True, num_workers=0)\n",
    "\n",
    "\n",
    "# test loader\n",
    "test_loader = DataLoader(dataset = test_dataset, batch_size = 4, shuffle=False, num_workers=0)\n",
    "\n",
    "# dataiter = iter(train_loader)\n",
    "# data = next(dataiter)\n",
    "# features, labels = data\n",
    "# print(features, labels)"
   ]
  },
  {
   "cell_type": "code",
   "execution_count": 126,
   "metadata": {},
   "outputs": [],
   "source": [
    "def train(model, dataloader, num_epochs, optimiser, criterion):\n",
    "    n_total_steps = len(dataloader)\n",
    "    writer = SummaryWriter()\n",
    "    batch_idx = 0\n",
    "    for epoch in range(num_epochs):\n",
    "        for i, (inputs, labels) in enumerate(dataloader):\n",
    "            # Forward pass and loss\n",
    "            try:\n",
    "                output = model(inputs)\n",
    "            except Exception as e:\n",
    "                print(f\"Error occurred on row {i}: {e}\")\n",
    "                continue\n",
    "            \n",
    "            loss = criterion(output, labels)\n",
    "\n",
    "            # Backward pass\n",
    "            loss.backward() #back propagation\n",
    "            optimiser.step() #update weights\n",
    "            optimiser.zero_grad() #reset gradients\n",
    "            writer.add_scalar('Loss', loss.item(), batch_idx)\n",
    "            batch_idx += 1\n",
    "            print (f'Epoch [{epoch+1}/{num_epochs}], Step [{i+1}/{n_total_steps}], Loss: {loss.item():.4f}')\n",
    "\n",
    "            # Break out of loop after first epoch\n",
    "            # break\n",
    "\n",
    "class LinearRegression(nn.Module):\n",
    "    def __init__(self, input_dim, output_dim):\n",
    "        super(LinearRegression, self).__init__()\n",
    "        # define diferent layers\n",
    "        self.lin = nn.Linear(input_dim, output_dim)\n",
    "\n",
    "    def forward(self, x):\n",
    "        return self.lin(x)\n",
    "\n",
    "\n",
    "\n",
    "model = LinearRegression(9, 1)\n",
    "num_epochs = 2\n",
    "criterion = nn.MSELoss()\n",
    "learning_rate = 0.0001\n",
    "n_iters = 100\n",
    "optimiser = torch.optim.Adam(model.parameters(), lr=learning_rate)\n",
    "# 3) Train the model\n",
    "train(model, train_loader, num_epochs, optimiser, criterion)\n"
   ]
  },
  {
   "cell_type": "code",
   "execution_count": 125,
   "metadata": {},
   "outputs": [],
   "source": [
    "# train the  validation_dataset\n",
    "train(model, validation_loader, num_epochs, optimiser, criterion)"
   ]
  },
  {
   "cell_type": "code",
   "execution_count": null,
   "metadata": {},
   "outputs": [],
   "source": [
    "def get_nn_config(yaml_file):\n",
    "    \"\"\"Loads neural network configuration from a YAML file and returns as a dictionary\n",
    "    \n",
    "    Parameters:\n",
    "        config_file: path to the .yaml file containing the hyperparameters\n",
    "        \n",
    "    Outputs:\n",
    "        nn_config: dict containing the hyperparameters for the model\"\"\"\n",
    "    \n",
    "    with open(yaml_file, 'r') as f:\n",
    "        nn_config = yaml.safe_load(f)\n",
    "    return nn_config"
   ]
  }
 ],
 "metadata": {
  "kernelspec": {
   "display_name": "airbnb",
   "language": "python",
   "name": "python3"
  },
  "language_info": {
   "codemirror_mode": {
    "name": "ipython",
    "version": 3
   },
   "file_extension": ".py",
   "mimetype": "text/x-python",
   "name": "python",
   "nbconvert_exporter": "python",
   "pygments_lexer": "ipython3",
   "version": "3.11.3"
  },
  "orig_nbformat": 4
 },
 "nbformat": 4,
 "nbformat_minor": 2
}
